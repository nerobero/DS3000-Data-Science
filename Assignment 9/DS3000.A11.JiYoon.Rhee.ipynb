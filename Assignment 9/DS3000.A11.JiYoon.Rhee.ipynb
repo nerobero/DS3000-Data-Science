{
 "cells": [
  {
   "cell_type": "markdown",
   "id": "24176879",
   "metadata": {},
   "source": [
    "# DS 3000 - Assignment 11\n",
    "\n",
    "**Student Name**: [Ji Yoon Rhee]\n",
    "\n",
    "**Date**: [Apr 10, 2022]"
   ]
  },
  {
   "cell_type": "markdown",
   "id": "11e5d6ca",
   "metadata": {},
   "source": [
    "Question 1:  (50 pts)\n",
    "\n",
    "Create a SVM model (either classification or regression) to predict a target using a dataset of your choice. You can use: 1) a previous dataset that you are familiar with from this course, 2) a new dataset, or 3) one of the builtin datasets in sklearn. You may not use the same dataset that was covered in the lecture.\n",
    "\n",
    "1. (5 pts) Perform any necessary data preparation steps and EDA.\n",
    "2. (5 pts) Partition the data into train/test sets.\n",
    "3. (10 pts) Normalize the numeric features and encode any categorical features. Ensure that you use sklearn to normalize/encode the training data, after which transform the test set (there is an example in the lecture).\n",
    "4. (20 pts) Build the model that predicts the target variable, and use GridSearchCV to tune at least two hyperparameters, and perform cross validation. You'll need to read the documentation of the SVM algorithm to identify the hyperparameters.(Links to an external site.)\n",
    "5. (5 pts) Display: 1) the best model/parameters and 2) the best score that was obtained.\n",
    "6. (5 pts) How do you feel about the model? Did it accurately predict the target? Evaluate the scores from GridSearchCV for the training set and the test set to diagnose any bias-variance problems.\n",
    " \n",
    "\n",
    "Examples of datasets that you can use:\n",
    "\n",
    "- Pima Indians Diabetes Database\n",
    "- Iris Dataset\n",
    "- Boston Housing dataset\n",
    "- Red Wine Quality\n",
    "...etc\n",
    "Note: Keep the dataset small. The focus of this assignment is to experiment with tuning a model."
   ]
  },
  {
   "cell_type": "code",
   "execution_count": 1,
   "id": "6e12e39f",
   "metadata": {},
   "outputs": [],
   "source": [
    "import pandas as pd\n",
    "import numpy as np\n",
    "import matplotlib.pyplot as plt\n",
    "from sklearn.datasets import load_iris\n",
    "from sklearn.svm import SVC\n",
    "from sklearn.preprocessing import StandardScaler\n",
    "from sklearn.preprocessing import OneHotEncoder\n",
    "from sklearn.model_selection import train_test_split\n",
    "from sklearn.metrics import classification_report\n",
    "import matplotlib.pyplot as plt\n",
    "from sklearn.model_selection import GridSearchCV\n",
    "import seaborn as sns\n",
    "sns.set() "
   ]
  },
  {
   "cell_type": "markdown",
   "id": "71d548d3",
   "metadata": {},
   "source": [
    "1. (5 pts) Perform any necessary data preparation steps and EDA."
   ]
  },
  {
   "cell_type": "code",
   "execution_count": 2,
   "id": "af8953c6",
   "metadata": {},
   "outputs": [],
   "source": [
    "# Perform any necessary data preparation steps and EDA.\n",
    "\n",
    "##loading iris dataset:\n",
    "data = load_iris()\n",
    "\n",
    "##dividing the data into the input 'X' and the labels 'y':\n",
    "X        = data['data'] #the observations\n",
    "y        = data['target'] #the target"
   ]
  },
  {
   "cell_type": "markdown",
   "id": "1dd54a7c",
   "metadata": {},
   "source": [
    "Since iris dataset is a built-in, there is no need to perform any data preparation or EDA. \n",
    "\n",
    "2. (5 pts) Partition the data into train/test sets."
   ]
  },
  {
   "cell_type": "code",
   "execution_count": 3,
   "id": "943df9cd",
   "metadata": {},
   "outputs": [
    {
     "data": {
      "text/html": [
       "<div>\n",
       "<style scoped>\n",
       "    .dataframe tbody tr th:only-of-type {\n",
       "        vertical-align: middle;\n",
       "    }\n",
       "\n",
       "    .dataframe tbody tr th {\n",
       "        vertical-align: top;\n",
       "    }\n",
       "\n",
       "    .dataframe thead th {\n",
       "        text-align: right;\n",
       "    }\n",
       "</style>\n",
       "<table border=\"1\" class=\"dataframe\">\n",
       "  <thead>\n",
       "    <tr style=\"text-align: right;\">\n",
       "      <th></th>\n",
       "      <th>sepal length</th>\n",
       "      <th>sepal width</th>\n",
       "      <th>petal length</th>\n",
       "      <th>petal width</th>\n",
       "      <th>class</th>\n",
       "    </tr>\n",
       "  </thead>\n",
       "  <tbody>\n",
       "    <tr>\n",
       "      <th>0</th>\n",
       "      <td>5.1</td>\n",
       "      <td>3.5</td>\n",
       "      <td>1.4</td>\n",
       "      <td>0.2</td>\n",
       "      <td>setosa</td>\n",
       "    </tr>\n",
       "    <tr>\n",
       "      <th>1</th>\n",
       "      <td>4.9</td>\n",
       "      <td>3.0</td>\n",
       "      <td>1.4</td>\n",
       "      <td>0.2</td>\n",
       "      <td>setosa</td>\n",
       "    </tr>\n",
       "    <tr>\n",
       "      <th>2</th>\n",
       "      <td>4.7</td>\n",
       "      <td>3.2</td>\n",
       "      <td>1.3</td>\n",
       "      <td>0.2</td>\n",
       "      <td>setosa</td>\n",
       "    </tr>\n",
       "    <tr>\n",
       "      <th>3</th>\n",
       "      <td>4.6</td>\n",
       "      <td>3.1</td>\n",
       "      <td>1.5</td>\n",
       "      <td>0.2</td>\n",
       "      <td>setosa</td>\n",
       "    </tr>\n",
       "    <tr>\n",
       "      <th>4</th>\n",
       "      <td>5.0</td>\n",
       "      <td>3.6</td>\n",
       "      <td>1.4</td>\n",
       "      <td>0.2</td>\n",
       "      <td>setosa</td>\n",
       "    </tr>\n",
       "  </tbody>\n",
       "</table>\n",
       "</div>"
      ],
      "text/plain": [
       "   sepal length  sepal width  petal length  petal width   class\n",
       "0           5.1          3.5           1.4          0.2  setosa\n",
       "1           4.9          3.0           1.4          0.2  setosa\n",
       "2           4.7          3.2           1.3          0.2  setosa\n",
       "3           4.6          3.1           1.5          0.2  setosa\n",
       "4           5.0          3.6           1.4          0.2  setosa"
      ]
     },
     "execution_count": 3,
     "metadata": {},
     "output_type": "execute_result"
    }
   ],
   "source": [
    "##loading data into dataframes:\n",
    "df          = pd.DataFrame(X, columns=['sepal length', 'sepal width', 'petal length', 'petal width'])\n",
    "df['class'] = [data['target_names'][idx] for idx in y]\n",
    "\n",
    "\n",
    "\n",
    "\n",
    "##splitting the data into train and test \n",
    "X_train, X_test, y_train, y_test = train_test_split(X,              #the input features\n",
    "                                                    y,              #the label\n",
    "                                                    test_size=0.3,  #set aside 30% of the data as the test set\n",
    "                                                    random_state=7, #reproduce the results\n",
    "                                                    stratify=y      #preserve the distribution of the labels\n",
    "                                                   )\n",
    "\n",
    "X_train = X_train.copy()\n",
    "X_test  = X_test.copy()\n",
    "\n",
    "df.head()"
   ]
  },
  {
   "cell_type": "markdown",
   "id": "8400bbdf",
   "metadata": {},
   "source": [
    "3. (10 pts) Normalize the numeric features and encode any categorical features. Ensure that you use sklearn to normalize/encode the training data, after which transform the test set (there is an example in the lecture)."
   ]
  },
  {
   "cell_type": "code",
   "execution_count": 4,
   "id": "f79e62a8",
   "metadata": {},
   "outputs": [],
   "source": [
    "#Normalize the numeric features and encode any categorical features.\n",
    "\n",
    "##normalizing the numeric features:\n",
    "scaler = StandardScaler()\n",
    "scaler.fit(X_train)\n",
    "\n",
    "X_train = scaler.transform(X_train) #scale the training set"
   ]
  },
  {
   "cell_type": "markdown",
   "id": "5a3e11ac",
   "metadata": {},
   "source": [
    "There is no need to encode anything, since there are no categorical features in this dataset.\n",
    "\n",
    "4. (20 pts) Build the model that predicts the target variable, and use GridSearchCV to tune at least two hyperparameters, and perform cross validation. You'll need to read the documentation of the SVM algorithm to identify the hyperparameters."
   ]
  },
  {
   "cell_type": "code",
   "execution_count": 5,
   "id": "6684eb0e",
   "metadata": {},
   "outputs": [
    {
     "data": {
      "text/plain": [
       "SVC()"
      ]
     },
     "execution_count": 5,
     "metadata": {},
     "output_type": "execute_result"
    }
   ],
   "source": [
    "#initialize the classifier\n",
    "\n",
    "svm = SVC() #the default kernel is rbf\n",
    "svm.fit(X_train, y_train) #fit the data"
   ]
  },
  {
   "cell_type": "code",
   "execution_count": 6,
   "id": "7afa0441",
   "metadata": {},
   "outputs": [
    {
     "name": "stdout",
     "output_type": "stream",
     "text": [
      "The predicted classes are: [1 1 2 0 1 0 2 2 2 0 0 2 0 1 1 1 2 1 2 2 0 1 2 1 1 0 0 2 0 2 1 1 1 0 0 2 1\n",
      " 0 1 0 2 2 2 0 0]\n"
     ]
    }
   ],
   "source": [
    "#encode & scale the new/test data\n",
    "X_test = scaler.transform(X_test) #scale the test data\n",
    "\n",
    "#y_test['Gender']             = encoder.transform(X_test[['Gender']]) #encode the test data\n",
    "\n",
    "#predict the labels for the test set\n",
    "y_pred   = svm.predict(X_test)\n",
    "\n",
    "print('The predicted classes are: {}'.format(y_pred))"
   ]
  },
  {
   "cell_type": "code",
   "execution_count": 7,
   "id": "ded484ba",
   "metadata": {},
   "outputs": [
    {
     "name": "stdout",
     "output_type": "stream",
     "text": [
      "The accuracy of the model is: 0.9555555555555556\n"
     ]
    }
   ],
   "source": [
    "#evaluate the prediction accuracy\n",
    "print('The accuracy of the model is: {}'.format(svm.score(X_test, y_test)))"
   ]
  },
  {
   "cell_type": "code",
   "execution_count": 8,
   "id": "46df468c",
   "metadata": {},
   "outputs": [
    {
     "name": "stdout",
     "output_type": "stream",
     "text": [
      "              precision    recall  f1-score   support\n",
      "\n",
      "      setosa       1.00      1.00      1.00        15\n",
      "  versicolor       0.93      0.93      0.93        15\n",
      "   virginica       0.93      0.93      0.93        15\n",
      "\n",
      "    accuracy                           0.96        45\n",
      "   macro avg       0.96      0.96      0.96        45\n",
      "weighted avg       0.96      0.96      0.96        45\n",
      "\n"
     ]
    }
   ],
   "source": [
    "#get the classification report\n",
    "target_names = ['setosa', 'versicolor', 'virginica']\n",
    "print(classification_report(y_test, y_pred, target_names = target_names))"
   ]
  },
  {
   "cell_type": "markdown",
   "id": "45b9e71d",
   "metadata": {},
   "source": [
    "5. (5 pts) Display: 1) the best model/parameters and 2) the best score that was obtained."
   ]
  },
  {
   "cell_type": "code",
   "execution_count": 9,
   "id": "38640c71",
   "metadata": {},
   "outputs": [
    {
     "name": "stdout",
     "output_type": "stream",
     "text": [
      "{'C': 1, 'gamma': 2}\n",
      "0.9523809523809523\n"
     ]
    }
   ],
   "source": [
    "#setup the parameter grid to try values of c ranging from 1 to 10, and values for gamma ranging from 1 to 5.\n",
    "params = {'C': np.arange(1, 20),\n",
    "         'gamma': np.arange(1, 10)}\n",
    "\n",
    "svm = SVC()\n",
    "\n",
    "#initialize Grid Search with Cross Validation\n",
    "svm_grid = GridSearchCV(estimator = svm, param_grid = params, cv=5, return_train_score = True)\n",
    "svm_grid.fit(X_train, y_train)\n",
    "\n",
    "print(svm_grid.best_params_) #print the best parameters\n",
    "print(svm_grid.best_score_)  #print the best score"
   ]
  },
  {
   "cell_type": "markdown",
   "id": "9103d656",
   "metadata": {},
   "source": [
    "6. (5 pts) How do you feel about the model? Did it accurately predict the target? Evaluate the scores from GridSearchCV for the training set and the test set to diagnose any bias-variance problems."
   ]
  },
  {
   "cell_type": "code",
   "execution_count": 10,
   "id": "bf13caf4",
   "metadata": {},
   "outputs": [
    {
     "data": {
      "text/html": [
       "<div>\n",
       "<style scoped>\n",
       "    .dataframe tbody tr th:only-of-type {\n",
       "        vertical-align: middle;\n",
       "    }\n",
       "\n",
       "    .dataframe tbody tr th {\n",
       "        vertical-align: top;\n",
       "    }\n",
       "\n",
       "    .dataframe thead th {\n",
       "        text-align: right;\n",
       "    }\n",
       "</style>\n",
       "<table border=\"1\" class=\"dataframe\">\n",
       "  <thead>\n",
       "    <tr style=\"text-align: right;\">\n",
       "      <th></th>\n",
       "      <th>mean_train_score</th>\n",
       "      <th>std_train_score</th>\n",
       "      <th>mean_test_score</th>\n",
       "      <th>std_test_score</th>\n",
       "    </tr>\n",
       "  </thead>\n",
       "  <tbody>\n",
       "    <tr>\n",
       "      <th>9</th>\n",
       "      <td>0.995238</td>\n",
       "      <td>0.005832</td>\n",
       "      <td>0.952381</td>\n",
       "      <td>0.030117</td>\n",
       "    </tr>\n",
       "    <tr>\n",
       "      <th>1</th>\n",
       "      <td>0.992857</td>\n",
       "      <td>0.005832</td>\n",
       "      <td>0.952381</td>\n",
       "      <td>0.030117</td>\n",
       "    </tr>\n",
       "    <tr>\n",
       "      <th>10</th>\n",
       "      <td>1.000000</td>\n",
       "      <td>0.000000</td>\n",
       "      <td>0.942857</td>\n",
       "      <td>0.035635</td>\n",
       "    </tr>\n",
       "    <tr>\n",
       "      <th>0</th>\n",
       "      <td>0.985714</td>\n",
       "      <td>0.008909</td>\n",
       "      <td>0.942857</td>\n",
       "      <td>0.035635</td>\n",
       "    </tr>\n",
       "    <tr>\n",
       "      <th>2</th>\n",
       "      <td>1.000000</td>\n",
       "      <td>0.000000</td>\n",
       "      <td>0.942857</td>\n",
       "      <td>0.035635</td>\n",
       "    </tr>\n",
       "  </tbody>\n",
       "</table>\n",
       "</div>"
      ],
      "text/plain": [
       "    mean_train_score  std_train_score  mean_test_score  std_test_score\n",
       "9           0.995238         0.005832         0.952381        0.030117\n",
       "1           0.992857         0.005832         0.952381        0.030117\n",
       "10          1.000000         0.000000         0.942857        0.035635\n",
       "0           0.985714         0.008909         0.942857        0.035635\n",
       "2           1.000000         0.000000         0.942857        0.035635"
      ]
     },
     "execution_count": 10,
     "metadata": {},
     "output_type": "execute_result"
    }
   ],
   "source": [
    "#display the cv results for the train and test set\n",
    "cv_results = pd.DataFrame(svm_grid.cv_results_)\n",
    "cv_results = cv_results.sort_values('mean_test_score', ascending=False)\n",
    "cv_results[['mean_train_score', 'std_train_score', 'mean_test_score', 'std_test_score']].head()"
   ]
  },
  {
   "cell_type": "markdown",
   "id": "367d3ab3",
   "metadata": {},
   "source": [
    "The highest mean train score and mean test score combination is 0.995238 and 0.952381. The SVC does not appear to overfit or underfit the data. This demonstrates low bias and low variance.\n",
    "\n",
    "Therefore, we can conclude that the model accurately can classify the target."
   ]
  },
  {
   "cell_type": "code",
   "execution_count": null,
   "id": "9a359b08",
   "metadata": {},
   "outputs": [],
   "source": []
  }
 ],
 "metadata": {
  "kernelspec": {
   "display_name": "Python 3 (ipykernel)",
   "language": "python",
   "name": "python3"
  },
  "language_info": {
   "codemirror_mode": {
    "name": "ipython",
    "version": 3
   },
   "file_extension": ".py",
   "mimetype": "text/x-python",
   "name": "python",
   "nbconvert_exporter": "python",
   "pygments_lexer": "ipython3",
   "version": "3.9.7"
  }
 },
 "nbformat": 4,
 "nbformat_minor": 5
}
